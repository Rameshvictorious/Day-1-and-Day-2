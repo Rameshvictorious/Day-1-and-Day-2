{
 "cells": [
  {
   "cell_type": "code",
   "execution_count": 2,
   "id": "d11558bf",
   "metadata": {},
   "outputs": [],
   "source": [
    "x = 2\n",
    "y = 3"
   ]
  },
  {
   "cell_type": "code",
   "execution_count": 4,
   "id": "1fad7859",
   "metadata": {},
   "outputs": [
    {
     "name": "stdout",
     "output_type": "stream",
     "text": [
      "5\n"
     ]
    }
   ],
   "source": [
    "z = x+y\n",
    "print(z)"
   ]
  },
  {
   "cell_type": "code",
   "execution_count": null,
   "id": "f764c5dd",
   "metadata": {},
   "outputs": [],
   "source": [
    "Rules for declaring the variables in python :"
   ]
  },
  {
   "cell_type": "code",
   "execution_count": null,
   "id": "361071ae",
   "metadata": {},
   "outputs": [],
   "source": [
    "Rule no - 1 : A variable name should not contain any namespaces"
   ]
  },
  {
   "cell_type": "code",
   "execution_count": 5,
   "id": "e5cd2fad",
   "metadata": {},
   "outputs": [
    {
     "ename": "SyntaxError",
     "evalue": "invalid syntax (3129405587.py, line 1)",
     "output_type": "error",
     "traceback": [
      "\u001b[1;36m  File \u001b[1;32m\"C:\\Users\\RAMESH\\AppData\\Local\\Temp\\ipykernel_15840\\3129405587.py\"\u001b[1;36m, line \u001b[1;32m1\u001b[0m\n\u001b[1;33m    first name ='ramesh'\u001b[0m\n\u001b[1;37m          ^\u001b[0m\n\u001b[1;31mSyntaxError\u001b[0m\u001b[1;31m:\u001b[0m invalid syntax\n"
     ]
    }
   ],
   "source": [
    "first name ='ramesh'\n",
    "print(first name)"
   ]
  },
  {
   "cell_type": "code",
   "execution_count": 6,
   "id": "45eedc2a",
   "metadata": {},
   "outputs": [
    {
     "name": "stdout",
     "output_type": "stream",
     "text": [
      "ramesh\n"
     ]
    }
   ],
   "source": [
    "firstname ='ramesh'\n",
    "print(firstname)"
   ]
  },
  {
   "cell_type": "code",
   "execution_count": 7,
   "id": "e0a2cdf7",
   "metadata": {},
   "outputs": [
    {
     "name": "stdout",
     "output_type": "stream",
     "text": [
      "ramesh\n"
     ]
    }
   ],
   "source": [
    "first_name ='ramesh'\n",
    "print(first_name)"
   ]
  },
  {
   "cell_type": "code",
   "execution_count": null,
   "id": "92a9ce26",
   "metadata": {},
   "outputs": [],
   "source": [
    "Rule 2: A variable name should not start with numeric value\n",
    "        but except the first place it can be declared any other place by considering the rule 1"
   ]
  },
  {
   "cell_type": "code",
   "execution_count": 8,
   "id": "3700e764",
   "metadata": {},
   "outputs": [
    {
     "ename": "SyntaxError",
     "evalue": "invalid syntax (3824793968.py, line 1)",
     "output_type": "error",
     "traceback": [
      "\u001b[1;36m  File \u001b[1;32m\"C:\\Users\\RAMESH\\AppData\\Local\\Temp\\ipykernel_15840\\3824793968.py\"\u001b[1;36m, line \u001b[1;32m1\u001b[0m\n\u001b[1;33m    1name='ramesh'\u001b[0m\n\u001b[1;37m     ^\u001b[0m\n\u001b[1;31mSyntaxError\u001b[0m\u001b[1;31m:\u001b[0m invalid syntax\n"
     ]
    }
   ],
   "source": [
    "1name='ramesh'\n",
    "print(1name)"
   ]
  },
  {
   "cell_type": "code",
   "execution_count": 9,
   "id": "0e91e7bf",
   "metadata": {},
   "outputs": [
    {
     "name": "stdout",
     "output_type": "stream",
     "text": [
      "ramesh\n"
     ]
    }
   ],
   "source": [
    "name1='ramesh'\n",
    "print(name1)"
   ]
  },
  {
   "cell_type": "code",
   "execution_count": null,
   "id": "f19e1da5",
   "metadata": {},
   "outputs": [],
   "source": [
    "Rule 3 : A variable name should not contain any special characters"
   ]
  },
  {
   "cell_type": "code",
   "execution_count": null,
   "id": "97abe73b",
   "metadata": {},
   "outputs": [],
   "source": [
    "some of the special characters are @ # $  & *"
   ]
  },
  {
   "cell_type": "code",
   "execution_count": 10,
   "id": "b3dde1f5",
   "metadata": {},
   "outputs": [
    {
     "ename": "SyntaxError",
     "evalue": "invalid syntax (2555861584.py, line 2)",
     "output_type": "error",
     "traceback": [
      "\u001b[1;36m  File \u001b[1;32m\"C:\\Users\\RAMESH\\AppData\\Local\\Temp\\ipykernel_15840\\2555861584.py\"\u001b[1;36m, line \u001b[1;32m2\u001b[0m\n\u001b[1;33m    print(name@)\u001b[0m\n\u001b[1;37m               ^\u001b[0m\n\u001b[1;31mSyntaxError\u001b[0m\u001b[1;31m:\u001b[0m invalid syntax\n"
     ]
    }
   ],
   "source": [
    "name@='ramesh'\n",
    "print(name@)"
   ]
  },
  {
   "cell_type": "code",
   "execution_count": null,
   "id": "c0e2a7d0",
   "metadata": {},
   "outputs": [],
   "source": [
    "Introduction to datatypes in python :"
   ]
  },
  {
   "cell_type": "code",
   "execution_count": null,
   "id": "821d1a19",
   "metadata": {},
   "outputs": [],
   "source": [
    "1. String => str \n",
    "\n",
    "2. Number => integers => int \n",
    "              float   => float(decimal)\n",
    "    \n",
    "3. ;ists"
   ]
  }
 ],
 "metadata": {
  "kernelspec": {
   "display_name": "Python 3 (ipykernel)",
   "language": "python",
   "name": "python3"
  },
  "language_info": {
   "codemirror_mode": {
    "name": "ipython",
    "version": 3
   },
   "file_extension": ".py",
   "mimetype": "text/x-python",
   "name": "python",
   "nbconvert_exporter": "python",
   "pygments_lexer": "ipython3",
   "version": "3.9.13"
  }
 },
 "nbformat": 4,
 "nbformat_minor": 5
}
